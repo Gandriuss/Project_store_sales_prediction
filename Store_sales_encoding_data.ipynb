{
  "nbformat": 4,
  "nbformat_minor": 0,
  "metadata": {
    "colab": {
      "provenance": [],
      "gpuType": "T4",
      "machine_shape": "hm"
    },
    "kernelspec": {
      "name": "python3",
      "display_name": "Python 3"
    },
    "language_info": {
      "name": "python"
    },
    "accelerator": "GPU"
  },
  "cells": [
    {
      "cell_type": "code",
      "execution_count": 1,
      "metadata": {
        "id": "2W_fF3R7jUc8"
      },
      "outputs": [],
      "source": [
        "import pandas as pd\n",
        "from sklearn.preprocessing import StandardScaler\n",
        "import numpy as np\n",
        "import matplotlib.pyplot as plt\n",
        "import seaborn as sns\n",
        "import torch\n",
        "import torch.nn as nn\n",
        "import torch.nn.init as init\n",
        "import torch.optim as optim\n",
        "from torch.utils.data import Dataset, DataLoader, TensorDataset"
      ]
    },
    {
      "cell_type": "code",
      "source": [
        "from google.colab import drive\n",
        "drive.mount('/content/drive')"
      ],
      "metadata": {
        "colab": {
          "base_uri": "https://localhost:8080/"
        },
        "id": "g2vMg--HjYbf",
        "outputId": "4f9e7ca1-fd07-470d-ca36-2c76d2523820"
      },
      "execution_count": 2,
      "outputs": [
        {
          "output_type": "stream",
          "name": "stdout",
          "text": [
            "Mounted at /content/drive\n"
          ]
        }
      ]
    },
    {
      "cell_type": "code",
      "source": [
        "# Read and mount data to data frames:\n",
        "\n",
        "path1 = '/content/drive/MyDrive/VU/ANN/prepared_train_data.csv'\n",
        "path2 = '/content/drive/MyDrive/VU/ANN/prepared_test_data.csv'\n",
        "train_df = pd.read_csv(path1)\n",
        "test_df = pd.read_csv(path2)"
      ],
      "metadata": {
        "id": "5w4KH09MjbJt"
      },
      "execution_count": 3,
      "outputs": []
    },
    {
      "cell_type": "markdown",
      "source": [
        "# Dimensionality reduction:"
      ],
      "metadata": {
        "id": "b5DioEyhkufL"
      }
    },
    {
      "cell_type": "code",
      "source": [
        "# Pop out target data and id column:\n",
        "Y_train = train_df[['sales', 'onpromotion+16', 'normalized_sales', 'store_nbr']]\n",
        "X_train = train_df.drop(['sales', 'onpromotion+16'], axis=1)\n",
        "X_train = X_train.drop('id', axis=1)\n",
        "\n",
        "\n",
        "# Convert dataframes to tensors\n",
        "X_tensor = torch.tensor(X_train.values[:,:,None], dtype=torch.float32)\n",
        "print(X_tensor.shape)\n"
      ],
      "metadata": {
        "colab": {
          "base_uri": "https://localhost:8080/"
        },
        "id": "6zWX30gGlVrB",
        "outputId": "215187c5-896b-486f-b21d-8fa7e57f4c27"
      },
      "execution_count": 4,
      "outputs": [
        {
          "output_type": "stream",
          "name": "stdout",
          "text": [
            "torch.Size([3052566, 90, 1])\n"
          ]
        }
      ]
    },
    {
      "cell_type": "code",
      "source": [
        "# Create a Dataset from tensor\n",
        "dataset = TensorDataset(X_tensor, torch.tensor(Y_train.values, dtype=torch.float32))\n",
        "\n",
        "# Defining the DataLoader\n",
        "BATCH_SIZE = 1713  # each store-item has 1713 entries\n",
        "data_loader = DataLoader(dataset, batch_size=BATCH_SIZE, shuffle=True)"
      ],
      "metadata": {
        "id": "QAgXHKlqko0C"
      },
      "execution_count": 5,
      "outputs": []
    },
    {
      "cell_type": "code",
      "source": [
        "class Autoencoder(nn.Module):\n",
        "    def __init__(self, input_channels, sequence_length, encoded_dim=16):\n",
        "        super(Autoencoder, self).__init__()\n",
        "\n",
        "        # Activation Function\n",
        "        self.relu = nn.ReLU()\n",
        "\n",
        "        # Encoder Layers with Batch Normalization\n",
        "        self.fc1_enc = nn.Linear(sequence_length * input_channels, 256)\n",
        "        self.bn1_enc = nn.BatchNorm1d(256)\n",
        "        self.fc2_enc = nn.Linear(256, 128)\n",
        "        self.bn2_enc = nn.BatchNorm1d(128)\n",
        "        self.fc3_enc = nn.Linear(128, 64)\n",
        "        self.bn3_enc = nn.BatchNorm1d(64)\n",
        "        self.fc4_enc = nn.Linear(64, encoded_dim)\n",
        "\n",
        "        # Decoder Layers with Batch Normalization\n",
        "        self.fc1_dec = nn.Linear(encoded_dim, 64)\n",
        "        self.bn1_dec = nn.BatchNorm1d(64)\n",
        "        self.fc2_dec = nn.Linear(64, 128)\n",
        "        self.bn2_dec = nn.BatchNorm1d(128)\n",
        "        self.fc3_dec = nn.Linear(128, 256)\n",
        "        self.bn3_dec = nn.BatchNorm1d(256)\n",
        "        self.fc4_dec = nn.Linear(256, sequence_length * input_channels)\n",
        "\n",
        "    def forward(self, x):\n",
        "        # Encoding\n",
        "        x = x.view(x.size(0), -1)  # Flatten the tensor\n",
        "        x = self.relu(self.bn1_enc(self.fc1_enc(x)))\n",
        "        x = self.relu(self.bn2_enc(self.fc2_enc(x)))\n",
        "        x = self.relu(self.bn3_enc(self.fc3_enc(x)))\n",
        "        encoded = self.fc4_enc(x)\n",
        "\n",
        "        # Decoding\n",
        "        x = self.relu(self.bn1_dec(self.fc1_dec(encoded)))\n",
        "        x = self.relu(self.bn2_dec(self.fc2_dec(x)))\n",
        "        x = self.relu(self.bn3_dec(self.fc3_dec(x)))\n",
        "        decoded = self.fc4_dec(x)\n",
        "\n",
        "        return decoded\n",
        "\n",
        "    def encode(self, x):\n",
        "        x = x.view(x.size(0), -1)\n",
        "        x = self.relu(self.bn1_enc(self.fc1_enc(x)))\n",
        "        x = self.relu(self.bn2_enc(self.fc2_enc(x)))\n",
        "        x = self.relu(self.bn3_enc(self.fc3_enc(x)))\n",
        "        encoded = self.fc4_enc(x)\n",
        "        return encoded\n"
      ],
      "metadata": {
        "id": "rsEoGxesk6JG"
      },
      "execution_count": 6,
      "outputs": []
    },
    {
      "cell_type": "code",
      "source": [
        "# 0. Use GPU if possible\n",
        "device = torch.device(\"cuda\" if torch.cuda.is_available() else \"cpu\")\n",
        "\n",
        "# 1. Model Initialization\n",
        "input_channels = X_tensor.shape[1]       # ~88\n",
        "sequence_length = X_tensor.shape[2]      # 1\n",
        "model = Autoencoder(input_channels, sequence_length).to(device)  # Move model to GPU if available"
      ],
      "metadata": {
        "id": "jrwQNXWr1Mtt"
      },
      "execution_count": 7,
      "outputs": []
    },
    {
      "cell_type": "code",
      "source": [
        "### Train encoder:\n",
        "\n",
        "# 2. Loss Function\n",
        "criterion = nn.MSELoss()\n",
        "\n",
        "# 3. Optimizer\n",
        "optimizer = torch.optim.Adam(model.parameters(), lr=3e-4)\n",
        "\n",
        "# 4. Training Loop\n",
        "num_epochs = 10\n",
        "for epoch in range(num_epochs):\n",
        "    model.train()\n",
        "    running_loss = 0.0\n",
        "    for batch_idx, (data, target) in enumerate(data_loader):\n",
        "        data = data.to(device)\n",
        "\n",
        "        optimizer.zero_grad()  # Reset gradients\n",
        "        reconstructed = model(data)\n",
        "        loss = criterion(reconstructed, data.view(data.size(0), -1))        # -1 - infer the size for that particular dimension based on the original size and the size of the other specified dimensions\n",
        "        loss.backward()\n",
        "        optimizer.step()\n",
        "\n",
        "        running_loss += loss.item()\n",
        "\n",
        "    print(f\"Epoch [{epoch+1}/{num_epochs}] Loss: {running_loss/len(data_loader):.4f}\")\n",
        "    # if running_loss/len(data_loader) <= 0.0028:\n",
        "    #   break\n",
        "\n",
        "# 6. Model Saving (optional)\n",
        "torch.save(model.state_dict(), 'model_weights.pth')"
      ],
      "metadata": {
        "colab": {
          "base_uri": "https://localhost:8080/"
        },
        "id": "2B-wL2AqlANk",
        "outputId": "a21c5ce2-65db-46dc-9498-08129029c65b"
      },
      "execution_count": 8,
      "outputs": [
        {
          "output_type": "stream",
          "name": "stdout",
          "text": [
            "Epoch [1/10] Loss: 0.0234\n",
            "Epoch [2/10] Loss: 0.0124\n",
            "Epoch [3/10] Loss: 0.0111\n",
            "Epoch [4/10] Loss: 0.0101\n",
            "Epoch [5/10] Loss: 0.0089\n",
            "Epoch [6/10] Loss: 0.0072\n",
            "Epoch [7/10] Loss: 0.0053\n",
            "Epoch [8/10] Loss: 0.0036\n",
            "Epoch [9/10] Loss: 0.0028\n",
            "Epoch [10/10] Loss: 0.0024\n"
          ]
        }
      ]
    },
    {
      "cell_type": "markdown",
      "source": [
        "Encode training data:"
      ],
      "metadata": {
        "id": "leHepvUqVHsR"
      }
    },
    {
      "cell_type": "code",
      "source": [
        "# 6. Model Saving (optional)\n",
        "torch.save(model.state_dict(), 'model_weights.pth')\n",
        "\n",
        "# Load the saved weights\n",
        "model.load_state_dict(torch.load('model_weights.pth'))\n",
        "model.eval()  # Set the model to evaluation mode by ignoring drop outs & batch normalization\n",
        "\n",
        "encoded_data = []\n",
        "with torch.no_grad():\n",
        "    for data, _ in data_loader:  # no need of targets for encoding\n",
        "        data = data.to(device)\n",
        "        encoded = model.encode(data)\n",
        "        encoded_data.append(encoded.cpu())\n",
        "\n",
        "# Convert list of tensors to a single tensor\n",
        "encoded_data = torch.cat(encoded_data, dim=0)\n",
        "\n",
        "print(encoded_data.shape)"
      ],
      "metadata": {
        "id": "S5_O27CjrkSm",
        "colab": {
          "base_uri": "https://localhost:8080/"
        },
        "outputId": "bfe35d67-f572-49ba-e90f-af657cf2e08a"
      },
      "execution_count": 9,
      "outputs": [
        {
          "output_type": "stream",
          "name": "stdout",
          "text": [
            "torch.Size([3052566, 16])\n"
          ]
        }
      ]
    },
    {
      "cell_type": "markdown",
      "source": [
        "Encode test data:"
      ],
      "metadata": {
        "id": "T-Xw-widVNvr"
      }
    },
    {
      "cell_type": "code",
      "source": [
        "encoded_data.shape"
      ],
      "metadata": {
        "id": "qrucFm2uA88h",
        "colab": {
          "base_uri": "https://localhost:8080/"
        },
        "outputId": "3611a1f4-34e4-4583-8f7d-71b2f14616db"
      },
      "execution_count": 10,
      "outputs": [
        {
          "output_type": "execute_result",
          "data": {
            "text/plain": [
              "torch.Size([3052566, 16])"
            ]
          },
          "metadata": {},
          "execution_count": 10
        }
      ]
    },
    {
      "cell_type": "markdown",
      "source": [
        "#Storing encoded data:"
      ],
      "metadata": {
        "id": "GN4TXfPRq5zt"
      }
    },
    {
      "cell_type": "code",
      "source": [
        "# Convert list of tensors to numpy array\n",
        "encoded_data_array = np.vstack([tensor.numpy() for tensor in encoded_data])\n",
        "\n",
        "# Convert numpy array to DataFrame\n",
        "encoded_df = pd.DataFrame(encoded_data_array)\n",
        "# Concatenate encoded_df and Y_train along columns\n",
        "encoded_df_plus_sales_future_promotions = pd.concat([encoded_df, train_df['id'].reset_index(drop=True), Y_train.reset_index(drop=True)], axis=1)\n",
        "\n",
        "# Save to CSV\n",
        "encoded_df_plus_sales_future_promotions.to_csv('/content/drive/MyDrive/VU/ANN/encoded_data.csv', index=False)  # ~ 1m"
      ],
      "metadata": {
        "id": "4bW88Ilkq-R4"
      },
      "execution_count": 11,
      "outputs": []
    },
    {
      "cell_type": "code",
      "source": [
        "encoded_df_plus_sales_future_promotions.head()"
      ],
      "metadata": {
        "id": "-O9RzPle4PSc",
        "colab": {
          "base_uri": "https://localhost:8080/",
          "height": 256
        },
        "outputId": "520cc2da-af2d-407b-a60f-b6f4652a41b6"
      },
      "execution_count": 12,
      "outputs": [
        {
          "output_type": "execute_result",
          "data": {
            "text/plain": [
              "          0         1         2         3         4         5         6  \\\n",
              "0  0.268250 -0.938469  0.634321  0.046035 -0.882299 -0.710946  0.262586   \n",
              "1 -0.085381 -0.871874  0.105006  0.111968 -1.210725 -0.052780  0.394698   \n",
              "2  0.816370 -0.383265  0.416107 -0.344449 -0.946493 -0.641333 -0.529246   \n",
              "3 -1.277721  0.370842 -0.682122 -0.163278  0.467260 -0.038031 -0.429528   \n",
              "4 -0.832109  0.526539 -0.698715  0.232769  1.177772  0.081507  0.274694   \n",
              "\n",
              "          7         8         9  ...        11        12        13        14  \\\n",
              "0  0.072921 -0.574389  1.074625  ...  0.027830 -0.481265  0.377082 -0.468952   \n",
              "1  0.569185 -0.124199  1.012168  ... -0.173337  0.478804 -0.573674 -0.359466   \n",
              "2  0.648588  0.316719  0.787706  ... -0.222590  1.212270  0.035632 -0.624357   \n",
              "3  0.456781  0.248105 -0.402676  ...  0.431799  0.502667 -0.456453 -0.196897   \n",
              "4  0.752656 -0.368253 -0.673652  ...  0.492198 -0.048708  0.334176  0.403294   \n",
              "\n",
              "         15    id  sales  onpromotion+16  normalized_sales  store_nbr  \n",
              "0 -0.307584  1782    2.0       -0.216028         -0.324819  -1.700267  \n",
              "1 -0.065601  3564    3.0       -0.216028         -0.323907  -1.700267  \n",
              "2 -0.387340  5346    3.0       -0.216028         -0.323907  -1.700267  \n",
              "3 -0.206376  7128    5.0       -0.216028         -0.322083  -1.700267  \n",
              "4 -0.819580  8910    2.0       -0.216028         -0.324819  -1.700267  \n",
              "\n",
              "[5 rows x 21 columns]"
            ],
            "text/html": [
              "\n",
              "  <div id=\"df-c15053ea-e739-4604-9953-9891d756bf8c\" class=\"colab-df-container\">\n",
              "    <div>\n",
              "<style scoped>\n",
              "    .dataframe tbody tr th:only-of-type {\n",
              "        vertical-align: middle;\n",
              "    }\n",
              "\n",
              "    .dataframe tbody tr th {\n",
              "        vertical-align: top;\n",
              "    }\n",
              "\n",
              "    .dataframe thead th {\n",
              "        text-align: right;\n",
              "    }\n",
              "</style>\n",
              "<table border=\"1\" class=\"dataframe\">\n",
              "  <thead>\n",
              "    <tr style=\"text-align: right;\">\n",
              "      <th></th>\n",
              "      <th>0</th>\n",
              "      <th>1</th>\n",
              "      <th>2</th>\n",
              "      <th>3</th>\n",
              "      <th>4</th>\n",
              "      <th>5</th>\n",
              "      <th>6</th>\n",
              "      <th>7</th>\n",
              "      <th>8</th>\n",
              "      <th>9</th>\n",
              "      <th>...</th>\n",
              "      <th>11</th>\n",
              "      <th>12</th>\n",
              "      <th>13</th>\n",
              "      <th>14</th>\n",
              "      <th>15</th>\n",
              "      <th>id</th>\n",
              "      <th>sales</th>\n",
              "      <th>onpromotion+16</th>\n",
              "      <th>normalized_sales</th>\n",
              "      <th>store_nbr</th>\n",
              "    </tr>\n",
              "  </thead>\n",
              "  <tbody>\n",
              "    <tr>\n",
              "      <th>0</th>\n",
              "      <td>0.268250</td>\n",
              "      <td>-0.938469</td>\n",
              "      <td>0.634321</td>\n",
              "      <td>0.046035</td>\n",
              "      <td>-0.882299</td>\n",
              "      <td>-0.710946</td>\n",
              "      <td>0.262586</td>\n",
              "      <td>0.072921</td>\n",
              "      <td>-0.574389</td>\n",
              "      <td>1.074625</td>\n",
              "      <td>...</td>\n",
              "      <td>0.027830</td>\n",
              "      <td>-0.481265</td>\n",
              "      <td>0.377082</td>\n",
              "      <td>-0.468952</td>\n",
              "      <td>-0.307584</td>\n",
              "      <td>1782</td>\n",
              "      <td>2.0</td>\n",
              "      <td>-0.216028</td>\n",
              "      <td>-0.324819</td>\n",
              "      <td>-1.700267</td>\n",
              "    </tr>\n",
              "    <tr>\n",
              "      <th>1</th>\n",
              "      <td>-0.085381</td>\n",
              "      <td>-0.871874</td>\n",
              "      <td>0.105006</td>\n",
              "      <td>0.111968</td>\n",
              "      <td>-1.210725</td>\n",
              "      <td>-0.052780</td>\n",
              "      <td>0.394698</td>\n",
              "      <td>0.569185</td>\n",
              "      <td>-0.124199</td>\n",
              "      <td>1.012168</td>\n",
              "      <td>...</td>\n",
              "      <td>-0.173337</td>\n",
              "      <td>0.478804</td>\n",
              "      <td>-0.573674</td>\n",
              "      <td>-0.359466</td>\n",
              "      <td>-0.065601</td>\n",
              "      <td>3564</td>\n",
              "      <td>3.0</td>\n",
              "      <td>-0.216028</td>\n",
              "      <td>-0.323907</td>\n",
              "      <td>-1.700267</td>\n",
              "    </tr>\n",
              "    <tr>\n",
              "      <th>2</th>\n",
              "      <td>0.816370</td>\n",
              "      <td>-0.383265</td>\n",
              "      <td>0.416107</td>\n",
              "      <td>-0.344449</td>\n",
              "      <td>-0.946493</td>\n",
              "      <td>-0.641333</td>\n",
              "      <td>-0.529246</td>\n",
              "      <td>0.648588</td>\n",
              "      <td>0.316719</td>\n",
              "      <td>0.787706</td>\n",
              "      <td>...</td>\n",
              "      <td>-0.222590</td>\n",
              "      <td>1.212270</td>\n",
              "      <td>0.035632</td>\n",
              "      <td>-0.624357</td>\n",
              "      <td>-0.387340</td>\n",
              "      <td>5346</td>\n",
              "      <td>3.0</td>\n",
              "      <td>-0.216028</td>\n",
              "      <td>-0.323907</td>\n",
              "      <td>-1.700267</td>\n",
              "    </tr>\n",
              "    <tr>\n",
              "      <th>3</th>\n",
              "      <td>-1.277721</td>\n",
              "      <td>0.370842</td>\n",
              "      <td>-0.682122</td>\n",
              "      <td>-0.163278</td>\n",
              "      <td>0.467260</td>\n",
              "      <td>-0.038031</td>\n",
              "      <td>-0.429528</td>\n",
              "      <td>0.456781</td>\n",
              "      <td>0.248105</td>\n",
              "      <td>-0.402676</td>\n",
              "      <td>...</td>\n",
              "      <td>0.431799</td>\n",
              "      <td>0.502667</td>\n",
              "      <td>-0.456453</td>\n",
              "      <td>-0.196897</td>\n",
              "      <td>-0.206376</td>\n",
              "      <td>7128</td>\n",
              "      <td>5.0</td>\n",
              "      <td>-0.216028</td>\n",
              "      <td>-0.322083</td>\n",
              "      <td>-1.700267</td>\n",
              "    </tr>\n",
              "    <tr>\n",
              "      <th>4</th>\n",
              "      <td>-0.832109</td>\n",
              "      <td>0.526539</td>\n",
              "      <td>-0.698715</td>\n",
              "      <td>0.232769</td>\n",
              "      <td>1.177772</td>\n",
              "      <td>0.081507</td>\n",
              "      <td>0.274694</td>\n",
              "      <td>0.752656</td>\n",
              "      <td>-0.368253</td>\n",
              "      <td>-0.673652</td>\n",
              "      <td>...</td>\n",
              "      <td>0.492198</td>\n",
              "      <td>-0.048708</td>\n",
              "      <td>0.334176</td>\n",
              "      <td>0.403294</td>\n",
              "      <td>-0.819580</td>\n",
              "      <td>8910</td>\n",
              "      <td>2.0</td>\n",
              "      <td>-0.216028</td>\n",
              "      <td>-0.324819</td>\n",
              "      <td>-1.700267</td>\n",
              "    </tr>\n",
              "  </tbody>\n",
              "</table>\n",
              "<p>5 rows × 21 columns</p>\n",
              "</div>\n",
              "    <div class=\"colab-df-buttons\">\n",
              "\n",
              "  <div class=\"colab-df-container\">\n",
              "    <button class=\"colab-df-convert\" onclick=\"convertToInteractive('df-c15053ea-e739-4604-9953-9891d756bf8c')\"\n",
              "            title=\"Convert this dataframe to an interactive table.\"\n",
              "            style=\"display:none;\">\n",
              "\n",
              "  <svg xmlns=\"http://www.w3.org/2000/svg\" height=\"24px\" viewBox=\"0 -960 960 960\">\n",
              "    <path d=\"M120-120v-720h720v720H120Zm60-500h600v-160H180v160Zm220 220h160v-160H400v160Zm0 220h160v-160H400v160ZM180-400h160v-160H180v160Zm440 0h160v-160H620v160ZM180-180h160v-160H180v160Zm440 0h160v-160H620v160Z\"/>\n",
              "  </svg>\n",
              "    </button>\n",
              "\n",
              "  <style>\n",
              "    .colab-df-container {\n",
              "      display:flex;\n",
              "      gap: 12px;\n",
              "    }\n",
              "\n",
              "    .colab-df-convert {\n",
              "      background-color: #E8F0FE;\n",
              "      border: none;\n",
              "      border-radius: 50%;\n",
              "      cursor: pointer;\n",
              "      display: none;\n",
              "      fill: #1967D2;\n",
              "      height: 32px;\n",
              "      padding: 0 0 0 0;\n",
              "      width: 32px;\n",
              "    }\n",
              "\n",
              "    .colab-df-convert:hover {\n",
              "      background-color: #E2EBFA;\n",
              "      box-shadow: 0px 1px 2px rgba(60, 64, 67, 0.3), 0px 1px 3px 1px rgba(60, 64, 67, 0.15);\n",
              "      fill: #174EA6;\n",
              "    }\n",
              "\n",
              "    .colab-df-buttons div {\n",
              "      margin-bottom: 4px;\n",
              "    }\n",
              "\n",
              "    [theme=dark] .colab-df-convert {\n",
              "      background-color: #3B4455;\n",
              "      fill: #D2E3FC;\n",
              "    }\n",
              "\n",
              "    [theme=dark] .colab-df-convert:hover {\n",
              "      background-color: #434B5C;\n",
              "      box-shadow: 0px 1px 3px 1px rgba(0, 0, 0, 0.15);\n",
              "      filter: drop-shadow(0px 1px 2px rgba(0, 0, 0, 0.3));\n",
              "      fill: #FFFFFF;\n",
              "    }\n",
              "  </style>\n",
              "\n",
              "    <script>\n",
              "      const buttonEl =\n",
              "        document.querySelector('#df-c15053ea-e739-4604-9953-9891d756bf8c button.colab-df-convert');\n",
              "      buttonEl.style.display =\n",
              "        google.colab.kernel.accessAllowed ? 'block' : 'none';\n",
              "\n",
              "      async function convertToInteractive(key) {\n",
              "        const element = document.querySelector('#df-c15053ea-e739-4604-9953-9891d756bf8c');\n",
              "        const dataTable =\n",
              "          await google.colab.kernel.invokeFunction('convertToInteractive',\n",
              "                                                    [key], {});\n",
              "        if (!dataTable) return;\n",
              "\n",
              "        const docLinkHtml = 'Like what you see? Visit the ' +\n",
              "          '<a target=\"_blank\" href=https://colab.research.google.com/notebooks/data_table.ipynb>data table notebook</a>'\n",
              "          + ' to learn more about interactive tables.';\n",
              "        element.innerHTML = '';\n",
              "        dataTable['output_type'] = 'display_data';\n",
              "        await google.colab.output.renderOutput(dataTable, element);\n",
              "        const docLink = document.createElement('div');\n",
              "        docLink.innerHTML = docLinkHtml;\n",
              "        element.appendChild(docLink);\n",
              "      }\n",
              "    </script>\n",
              "  </div>\n",
              "\n",
              "\n",
              "<div id=\"df-b05d6e02-9a23-4528-b015-7f32bc711e8d\">\n",
              "  <button class=\"colab-df-quickchart\" onclick=\"quickchart('df-b05d6e02-9a23-4528-b015-7f32bc711e8d')\"\n",
              "            title=\"Suggest charts\"\n",
              "            style=\"display:none;\">\n",
              "\n",
              "<svg xmlns=\"http://www.w3.org/2000/svg\" height=\"24px\"viewBox=\"0 0 24 24\"\n",
              "     width=\"24px\">\n",
              "    <g>\n",
              "        <path d=\"M19 3H5c-1.1 0-2 .9-2 2v14c0 1.1.9 2 2 2h14c1.1 0 2-.9 2-2V5c0-1.1-.9-2-2-2zM9 17H7v-7h2v7zm4 0h-2V7h2v10zm4 0h-2v-4h2v4z\"/>\n",
              "    </g>\n",
              "</svg>\n",
              "  </button>\n",
              "\n",
              "<style>\n",
              "  .colab-df-quickchart {\n",
              "      --bg-color: #E8F0FE;\n",
              "      --fill-color: #1967D2;\n",
              "      --hover-bg-color: #E2EBFA;\n",
              "      --hover-fill-color: #174EA6;\n",
              "      --disabled-fill-color: #AAA;\n",
              "      --disabled-bg-color: #DDD;\n",
              "  }\n",
              "\n",
              "  [theme=dark] .colab-df-quickchart {\n",
              "      --bg-color: #3B4455;\n",
              "      --fill-color: #D2E3FC;\n",
              "      --hover-bg-color: #434B5C;\n",
              "      --hover-fill-color: #FFFFFF;\n",
              "      --disabled-bg-color: #3B4455;\n",
              "      --disabled-fill-color: #666;\n",
              "  }\n",
              "\n",
              "  .colab-df-quickchart {\n",
              "    background-color: var(--bg-color);\n",
              "    border: none;\n",
              "    border-radius: 50%;\n",
              "    cursor: pointer;\n",
              "    display: none;\n",
              "    fill: var(--fill-color);\n",
              "    height: 32px;\n",
              "    padding: 0;\n",
              "    width: 32px;\n",
              "  }\n",
              "\n",
              "  .colab-df-quickchart:hover {\n",
              "    background-color: var(--hover-bg-color);\n",
              "    box-shadow: 0 1px 2px rgba(60, 64, 67, 0.3), 0 1px 3px 1px rgba(60, 64, 67, 0.15);\n",
              "    fill: var(--button-hover-fill-color);\n",
              "  }\n",
              "\n",
              "  .colab-df-quickchart-complete:disabled,\n",
              "  .colab-df-quickchart-complete:disabled:hover {\n",
              "    background-color: var(--disabled-bg-color);\n",
              "    fill: var(--disabled-fill-color);\n",
              "    box-shadow: none;\n",
              "  }\n",
              "\n",
              "  .colab-df-spinner {\n",
              "    border: 2px solid var(--fill-color);\n",
              "    border-color: transparent;\n",
              "    border-bottom-color: var(--fill-color);\n",
              "    animation:\n",
              "      spin 1s steps(1) infinite;\n",
              "  }\n",
              "\n",
              "  @keyframes spin {\n",
              "    0% {\n",
              "      border-color: transparent;\n",
              "      border-bottom-color: var(--fill-color);\n",
              "      border-left-color: var(--fill-color);\n",
              "    }\n",
              "    20% {\n",
              "      border-color: transparent;\n",
              "      border-left-color: var(--fill-color);\n",
              "      border-top-color: var(--fill-color);\n",
              "    }\n",
              "    30% {\n",
              "      border-color: transparent;\n",
              "      border-left-color: var(--fill-color);\n",
              "      border-top-color: var(--fill-color);\n",
              "      border-right-color: var(--fill-color);\n",
              "    }\n",
              "    40% {\n",
              "      border-color: transparent;\n",
              "      border-right-color: var(--fill-color);\n",
              "      border-top-color: var(--fill-color);\n",
              "    }\n",
              "    60% {\n",
              "      border-color: transparent;\n",
              "      border-right-color: var(--fill-color);\n",
              "    }\n",
              "    80% {\n",
              "      border-color: transparent;\n",
              "      border-right-color: var(--fill-color);\n",
              "      border-bottom-color: var(--fill-color);\n",
              "    }\n",
              "    90% {\n",
              "      border-color: transparent;\n",
              "      border-bottom-color: var(--fill-color);\n",
              "    }\n",
              "  }\n",
              "</style>\n",
              "\n",
              "  <script>\n",
              "    async function quickchart(key) {\n",
              "      const quickchartButtonEl =\n",
              "        document.querySelector('#' + key + ' button');\n",
              "      quickchartButtonEl.disabled = true;  // To prevent multiple clicks.\n",
              "      quickchartButtonEl.classList.add('colab-df-spinner');\n",
              "      try {\n",
              "        const charts = await google.colab.kernel.invokeFunction(\n",
              "            'suggestCharts', [key], {});\n",
              "      } catch (error) {\n",
              "        console.error('Error during call to suggestCharts:', error);\n",
              "      }\n",
              "      quickchartButtonEl.classList.remove('colab-df-spinner');\n",
              "      quickchartButtonEl.classList.add('colab-df-quickchart-complete');\n",
              "    }\n",
              "    (() => {\n",
              "      let quickchartButtonEl =\n",
              "        document.querySelector('#df-b05d6e02-9a23-4528-b015-7f32bc711e8d button');\n",
              "      quickchartButtonEl.style.display =\n",
              "        google.colab.kernel.accessAllowed ? 'block' : 'none';\n",
              "    })();\n",
              "  </script>\n",
              "</div>\n",
              "    </div>\n",
              "  </div>\n"
            ]
          },
          "metadata": {},
          "execution_count": 12
        }
      ]
    }
  ]
}